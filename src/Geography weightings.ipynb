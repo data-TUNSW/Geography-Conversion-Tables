{
 "cells": [
  {
   "cell_type": "code",
   "execution_count": 61,
   "metadata": {},
   "outputs": [],
   "source": [
    "import pandas as pd\n",
    "import constants as c\n",
    "from importlib import reload\n",
    "\n",
    "reload(c)\n",
    "\n",
    "def clean_postcode_name(postcode):\n",
    "    return(postcode.split(', ')[0].split(' ')[0])\n",
    "\n",
    "\n",
    "def geo_update_sort_drop(df, geo, Y):\n",
    "    df1 = df[df['RATIO_FROM_TO'] == 1.0]\n",
    "    df2 = df[(df['RATIO_FROM_TO'] != 1.0) & (df['RATIO_FROM_TO'] >= 0.0)]\n",
    "    df2 = df2.sort_values(by='RATIO_FROM_TO', ascending=False)\n",
    "    df2 = df2.drop_duplicates(subset= geo + '_NAME_'+ Y, keep='first')\n",
    "    return pd.concat([df1,df2])"
   ]
  },
  {
   "cell_type": "markdown",
   "metadata": {},
   "source": [
    "### Building Postcode to LGA table"
   ]
  },
  {
   "cell_type": "code",
   "execution_count": 62,
   "metadata": {},
   "outputs": [
    {
     "name": "stderr",
     "output_type": "stream",
     "text": [
      "C:\\Users\\jack.m\\AppData\\Local\\Temp\\ipykernel_11912\\3012478653.py:1: ParserWarning: Falling back to the 'python' engine because the 'c' engine does not support skipfooter; you can avoid this warning by specifying engine='python'.\n",
      "  df = pd.read_csv(c.raw_data_file_lga, skiprows=10, skipfooter=10)[1:].rename(columns={\"LGA (EN)\": 'POA'})\n"
     ]
    }
   ],
   "source": [
    "df = pd.read_csv(c.raw_data_file_lga, skiprows=10, skipfooter=10)[1:].rename(columns={\"LGA (EN)\": 'POA'})\n",
    "df = df.melt(id_vars='POA', var_name='LGA', value_name='Rented Households')\n",
    "\n",
    "df = df[df['Rented Households'] > 0]\n",
    "\n",
    "df = df[df['LGA'] != 'Total']\n",
    "df = df[~df['LGA'].str.startswith('Migratory')]\n",
    "\n",
    "df['Postcode'] = df['POA'].apply(clean_postcode_name)\n",
    "df = df[['Postcode', 'LGA', 'Rented Households']].reset_index(drop=True)\n",
    "\n",
    "postcode_totals = df.groupby('Postcode').sum().reset_index().rename(columns={'Rented Households': 'Postcode Totals'})\n",
    "lga_totals = df.groupby('LGA').sum().reset_index().rename(columns={'Rented Households': 'LGA Totals'})\n",
    "\n",
    "df = df.merge(postcode_totals, on='Postcode', how='left')\n",
    "df = df.merge(lga_totals, on='LGA', how='left')\n",
    "\n",
    "df['Postcode Fraction'] = df['Rented Households']/df['Postcode Totals']\n",
    "df['LGA Fraction'] = df['Rented Households']/df['LGA Totals']\n",
    "\n",
    "df.sort_values(by=['Postcode', 'LGA']).to_csv(c.processed_data_dir + 'POA_LGA_Rented_Weightings.csv', index = False)"
   ]
  },
  {
   "cell_type": "markdown",
   "metadata": {},
   "source": [
    "#### LGA Correspondence files"
   ]
  },
  {
   "cell_type": "code",
   "execution_count": 63,
   "metadata": {},
   "outputs": [],
   "source": [
    "lga_2016_2021 = pd.read_csv(c.raw_lga_2016_2021)\n",
    "lga_2021_2022 = pd.read_csv(c.raw_lga_2021_2022)\n",
    "\n",
    "lga_2021_2022 = geo_update_sort_drop(lga_2021_2022, 'LGA', '2021')\n",
    "lga_2016_2021 = geo_update_sort_drop(lga_2016_2021, 'LGA', '2016')\n",
    "\n",
    "lga_2021_2022.rename({'RATIO_FROM_TO': 'RATIO_FROM_2021_TO_2022'}, axis='columns', inplace=True)\n",
    "lga_2016_2021.rename({'RATIO_FROM_TO': 'RATIO_FROM_2016_TO_2021'}, axis='columns', inplace=True)\n",
    "\n",
    "lga_2021_2022[['LGA_CODE_2021', 'LGA_NAME_2021', 'LGA_CODE_2022', 'LGA_NAME_2022',\n",
    "       'RATIO_FROM_2021_TO_2022']].to_csv(c.processed_data_dir + 'LGA_2021_To_2022.csv', index=False)\n",
    "lga_2016_2021[['LGA_CODE_2016', 'LGA_NAME_2016', 'LGA_CODE_2021', 'LGA_NAME_2021',\n",
    "       'RATIO_FROM_2016_TO_2021']].to_csv(c.processed_data_dir + 'LGA_2016_To_2021.csv', index=False)"
   ]
  },
  {
   "cell_type": "markdown",
   "metadata": {},
   "source": [
    "### Building Postcode to SED table"
   ]
  },
  {
   "cell_type": "code",
   "execution_count": 64,
   "metadata": {},
   "outputs": [
    {
     "name": "stderr",
     "output_type": "stream",
     "text": [
      "C:\\Users\\jack.m\\AppData\\Local\\Temp\\ipykernel_11912\\3223932162.py:1: ParserWarning: Falling back to the 'python' engine because the 'c' engine does not support skipfooter; you can avoid this warning by specifying engine='python'.\n",
      "  df = pd.read_csv(c.raw_data_file_sed, skiprows=10, skipfooter=10)[1:].rename(columns={\"SED (EN)\": 'POA'})\n"
     ]
    }
   ],
   "source": [
    "df = pd.read_csv(c.raw_data_file_sed, skiprows=10, skipfooter=10)[1:].rename(columns={\"SED (EN)\": 'POA'})\n",
    "df = df.melt(id_vars='POA', var_name='SED', value_name='Rented Households')\n",
    "\n",
    "df = df[df['Rented Households'] > 0]\n",
    "\n",
    "df = df[df['SED'] != 'Total']\n",
    "df = df[~df['SED'].str.startswith('Migratory')]\n",
    "\n",
    "df['Postcode'] = df['POA'].apply(clean_postcode_name)\n",
    "df = df[['Postcode', 'SED', 'Rented Households']].reset_index(drop=True)\n",
    "\n",
    "postcode_totals = df.groupby('Postcode').sum().reset_index().rename(columns={'Rented Households': 'Postcode Totals'})\n",
    "sed_totals = df.groupby('SED').sum().reset_index().rename(columns={'Rented Households': 'SED Totals'})\n",
    "\n",
    "df = df.merge(postcode_totals, on='Postcode', how='left')\n",
    "df = df.merge(sed_totals, on='SED', how='left')\n",
    "\n",
    "df['Postcode Fraction'] = df['Rented Households']/df['Postcode Totals']\n",
    "df['SED Fraction'] = df['Rented Households']/df['SED Totals']\n",
    "\n",
    "df.sort_values(by=['Postcode', 'SED']).to_csv(c.processed_data_dir + 'POA_SED_Rented_Weightings.csv', index=False)"
   ]
  },
  {
   "cell_type": "markdown",
   "metadata": {},
   "source": [
    "#### SED Correspondence files"
   ]
  },
  {
   "cell_type": "code",
   "execution_count": 65,
   "metadata": {},
   "outputs": [],
   "source": [
    "sed_2016_2021 = pd.read_csv(c.raw_sed_2016_2021)\n",
    "sed_2021_2022 = pd.read_csv(c.raw_sed_2021_2022)\n",
    "\n",
    "sed_2021_2022 = geo_update_sort_drop(sed_2021_2022, 'SED', '2021')\n",
    "sed_2016_2021 = geo_update_sort_drop(sed_2016_2021, 'SED', '2016')\n",
    "\n",
    "sed_2021_2022.rename({'RATIO_FROM_TO': 'RATIO_FROM_2021_TO_2022'}, axis='columns', inplace=True)\n",
    "sed_2016_2021.rename({'RATIO_FROM_TO': 'RATIO_FROM_2016_TO_2021'}, axis='columns', inplace=True)\n",
    "\n",
    "sed_2021_2022[['SED_CODE_2021', 'SED_NAME_2021', 'SED_CODE_2022', 'SED_NAME_2022',\n",
    "       'RATIO_FROM_2021_TO_2022']].to_csv(c.processed_data_dir + 'SED_2021_To_2022.csv', index=False)\n",
    "sed_2016_2021[['SED_CODE_2016', 'SED_NAME_2016', 'SED_CODE_2021', 'SED_NAME_2021',\n",
    "       'RATIO_FROM_2016_TO_2021']].to_csv(c.processed_data_dir + 'SED_2016_To_2021.csv', index=False)"
   ]
  }
 ],
 "metadata": {
  "kernelspec": {
   "display_name": "Python 3.10.4 64-bit",
   "language": "python",
   "name": "python3"
  },
  "language_info": {
   "codemirror_mode": {
    "name": "ipython",
    "version": 3
   },
   "file_extension": ".py",
   "mimetype": "text/x-python",
   "name": "python",
   "nbconvert_exporter": "python",
   "pygments_lexer": "ipython3",
   "version": "3.10.4"
  },
  "orig_nbformat": 4,
  "vscode": {
   "interpreter": {
    "hash": "fe456d0a7125500ec79c2d1ab3e890f78b53f3873deea3b3f9aa2fd1b5b10499"
   }
  }
 },
 "nbformat": 4,
 "nbformat_minor": 2
}
