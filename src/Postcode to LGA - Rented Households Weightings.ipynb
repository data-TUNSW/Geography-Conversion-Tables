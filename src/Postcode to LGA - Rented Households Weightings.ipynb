{
 "cells": [
  {
   "cell_type": "code",
   "execution_count": 191,
   "metadata": {},
   "outputs": [
    {
     "data": {
      "text/plain": [
       "<module 'constants' from 'g:\\\\Shared drives\\\\Data\\\\Analysis\\\\Geography Conversion Tables\\\\src\\\\constants.py'>"
      ]
     },
     "execution_count": 191,
     "metadata": {},
     "output_type": "execute_result"
    }
   ],
   "source": [
    "from tqdm import tqdm\n",
    "import pandas as pd\n",
    "import constants as c\n",
    "from importlib import reload\n",
    "\n",
    "reload(c)"
   ]
  },
  {
   "cell_type": "markdown",
   "metadata": {},
   "source": [
    "- Cleaning column and row names"
   ]
  },
  {
   "cell_type": "code",
   "execution_count": 193,
   "metadata": {},
   "outputs": [],
   "source": [
    "# Loads the geography update, i.e. Postcodes 2016 -> 2021\n",
    "def load_geo_update_df(geo, Y1, Y2):\n",
    "    return pd.read_csv(c.geography_updates[geo][Y1 + '-' + Y2])\n",
    "\n",
    "# With a duplicate, chooses the 2021 Postcode \n",
    "def geo_update_sort_drop(df, geo, Y):\n",
    "    df = df.sort_values(by='RATIO_FROM_TO', ascending=False)\n",
    "    return df.drop_duplicates(subset= geo + '_NAME_'+ Y, keep='first')"
   ]
  },
  {
   "cell_type": "code",
   "execution_count": 194,
   "metadata": {},
   "outputs": [],
   "source": [
    "def collapse_transform_table(table, geo1, geo2):\n",
    "    geo1s, geo2s, households = [], [], []\n",
    "    geo1_name = c.geo_names[geo1]\n",
    "    geo2_name = c.geo_names[geo2]\n",
    "    for col in table.columns:\n",
    "        subset = table[table[col] > 0][col]\n",
    "        geo1s += list(subset.index)\n",
    "        households += list(subset)\n",
    "        geo2s += list([col])*len(subset)\n",
    "\n",
    "    geo1_totals = table.sum(axis='columns')\n",
    "    geo1_totals = geo1_totals.reset_index(name=geo1_name + ' Totals').rename({'index': geo1_name}, axis='columns')\n",
    "\n",
    "    geo2_totals = table.sum(axis='rows')\n",
    "    geo2_totals = geo2_totals.reset_index(name=geo2_name + ' Totals').rename({'index': geo2_name}, axis='columns')\n",
    "    df_new = pd.DataFrame({geo1_name: geo1s, geo2_name: geo2s, 'Rented Households': households})\n",
    "\n",
    "    df_new = df_new.merge(geo1_totals, on=geo1_name, how='left')\n",
    "    df_new = df_new.merge(geo2_totals, on=geo2_name, how='left')\n",
    "\n",
    "    df_new = df_new.sort_values(by=[geo1_name])\n",
    "    df_new[geo1_name + ' Fraction'] = df_new['Rented Households']/df_new[geo1_name + ' Totals']\n",
    "    df_new[geo2_name + ' Fraction'] = df_new['Rented Households']/df_new[geo2_name + ' Totals']\n",
    "\n",
    "    for col in ['Rented Households', geo1_name + ' Totals', geo2_name + ' Totals']:\n",
    "        df_new[col] = df_new[col].astype(int)\n",
    "\n",
    "    return(df_new)\n",
    "\n",
    "    "
   ]
  },
  {
   "cell_type": "markdown",
   "metadata": {},
   "source": [
    "Update the 2016 geographies to 2021"
   ]
  },
  {
   "cell_type": "code",
   "execution_count": 195,
   "metadata": {},
   "outputs": [],
   "source": [
    "def update_geos(df, df_geo1, df_geo2, geo1, geo2, Y1, Y2):\n",
    "    geo1_name, geo2_name = c.geo_names[geo1], c.geo_names[geo2]\n",
    "    df = df.merge(df_geo1, left_on=geo1_name, right_on=geo1 + '_NAME_' + Y1, how='left')\n",
    "    df.rename({'RATIO_FROM_TO': geo1 + '_' + Y1 + '_' + Y2 + '_RATIO'}, axis='columns', inplace=True)\n",
    "    df = df.merge(df_geo2, left_on=geo2_name, right_on=geo2 + '_NAME_' + Y1, how='left')\n",
    "    df.rename({'RATIO_FROM_TO': geo2 + '_' + Y1 + '_' + Y2 + '_RATIO'}, axis='columns', inplace=True)\n",
    "\n",
    "    cols = [geo1 + '_NAME_2021', geo2 + '_NAME_2021', 'Rented Households', geo1_name + ' Totals', geo2_name + ' Totals',\n",
    "       geo1_name + ' Fraction', geo2_name + ' Fraction', geo1 + '_NAME_2016', geo2 + '_NAME_2016', \n",
    "       geo1 + '_' + Y1 + '_' + Y2 + '_RATIO', geo2 + '_' + Y1 + '_' + Y2 + '_RATIO'] \n",
    "    df = df[cols]\n",
    "\n",
    "    df.rename({geo1 + '_NAME_' + Y2: geo1_name, geo2 + '_NAME_' + Y2: geo2_name}, axis='columns', inplace=True)\n",
    "    #Drop missing geos\n",
    "    df = df[(~df[geo1_name].isna()) & (~df[geo2_name].isna())]\n",
    "\n",
    "    return(df)\n"
   ]
  },
  {
   "cell_type": "code",
   "execution_count": null,
   "metadata": {},
   "outputs": [],
   "source": [
    "table_poa_lga = pd.read_excel(c.raw_data_file_lprw, **c.read_options_lprw)\n",
    "\n",
    "def clean_postcode_name(postcode):\n",
    "    return(postcode.split(', ')[0].split(' ')[0])\n",
    "\n",
    "table_poa_lga.rename(clean_postcode_name, axis='index', inplace=True)\n",
    "table_poa_lga = table_poa_lga[table_poa_lga.columns[1:-1]] #Removes 'LGA' from columns"
   ]
  },
  {
   "cell_type": "code",
   "execution_count": 200,
   "metadata": {},
   "outputs": [],
   "source": [
    "df_t = load_geo_update_df('LGA', '2016', '2021')\n",
    "df_lga_2016_to_2021 = geo_update_sort_drop(df_t, 'LGA', '2021')\n",
    "\n",
    "df_t = load_geo_update_df('POA', '2016', '2021')\n",
    "df_poa_2016_to_2021 = geo_update_sort_drop(df_t, 'POA', '2021')\n",
    "\n",
    "df_t = collapse_transform_table(table_poa_lga, 'POA', 'LGA')\n",
    "\n",
    "df_poa_lga = update_geos(df_t, df_poa_2016_to_2021, df_lga_2016_to_2021, 'POA', 'LGA', '2016', '2021')"
   ]
  },
  {
   "cell_type": "code",
   "execution_count": 202,
   "metadata": {},
   "outputs": [],
   "source": [
    "df_poa_lga.sort_values(by='Postcode').to_csv(c.processed_data_dir + 'LGA To Postcode 2016 Rented Household Weightings.csv', index=False)"
   ]
  }
 ],
 "metadata": {
  "interpreter": {
   "hash": "fe456d0a7125500ec79c2d1ab3e890f78b53f3873deea3b3f9aa2fd1b5b10499"
  },
  "kernelspec": {
   "display_name": "Python 3.10.2 64-bit",
   "language": "python",
   "name": "python3"
  },
  "language_info": {
   "codemirror_mode": {
    "name": "ipython",
    "version": 3
   },
   "file_extension": ".py",
   "mimetype": "text/x-python",
   "name": "python",
   "nbconvert_exporter": "python",
   "pygments_lexer": "ipython3",
   "version": "3.10.4"
  },
  "orig_nbformat": 4
 },
 "nbformat": 4,
 "nbformat_minor": 2
}
