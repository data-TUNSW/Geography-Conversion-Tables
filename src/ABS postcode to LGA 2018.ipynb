{
 "cells": [
  {
   "cell_type": "code",
   "execution_count": 81,
   "metadata": {},
   "outputs": [
    {
     "data": {
      "text/plain": [
       "<module 'constants' from 'c:\\\\Users\\\\jack.m\\\\work\\\\Geography\\\\constants.py'>"
      ]
     },
     "execution_count": 81,
     "metadata": {},
     "output_type": "execute_result"
    }
   ],
   "source": [
    "from tqdm import tqdm\n",
    "import pandas as pd\n",
    "import constants as c\n",
    "from importlib import reload\n",
    "\n",
    "reload(c)"
   ]
  },
  {
   "cell_type": "markdown",
   "metadata": {},
   "source": [
    "## Read Raw File"
   ]
  },
  {
   "cell_type": "code",
   "execution_count": 82,
   "metadata": {},
   "outputs": [],
   "source": [
    "df = pd.read_excel(c.raw_data_file_CA, **c.read_options_CA)\n",
    "df.rename(columns=c.new_col_names, inplace = True)"
   ]
  },
  {
   "cell_type": "markdown",
   "metadata": {},
   "source": [
    "## Cleaning"
   ]
  },
  {
   "cell_type": "code",
   "execution_count": 83,
   "metadata": {},
   "outputs": [],
   "source": [
    "def simplify_lga_name(lga):\n",
    "    return(lga.split(' (')[0])\n",
    "\n",
    "df['LGA'] = df['LGA'].apply(simplify_lga_name)"
   ]
  },
  {
   "cell_type": "markdown",
   "metadata": {},
   "source": [
    "## Selecting LGAs\n",
    "- Select the transformation corresponding to which has largest area ratio"
   ]
  },
  {
   "cell_type": "code",
   "execution_count": 84,
   "metadata": {},
   "outputs": [],
   "source": [
    "transofrms_df = df.sort_values('Ratio').drop_duplicates('Postcode',keep='last').sort_values('Postcode')"
   ]
  },
  {
   "cell_type": "markdown",
   "metadata": {},
   "source": [
    "## Exporting Data"
   ]
  },
  {
   "cell_type": "code",
   "execution_count": 85,
   "metadata": {},
   "outputs": [],
   "source": [
    "cols = ['Postcode', 'LGA', 'LGA Code', 'Ratio']\n",
    "transofrms_df[cols].to_csv(c.processed_data_dir + 'Postcode To LGA.csv', index=False)"
   ]
  },
  {
   "cell_type": "markdown",
   "metadata": {},
   "source": [
    "## Duplicate examples"
   ]
  },
  {
   "cell_type": "code",
   "execution_count": 86,
   "metadata": {},
   "outputs": [
    {
     "data": {
      "text/html": [
       "<div>\n",
       "<style scoped>\n",
       "    .dataframe tbody tr th:only-of-type {\n",
       "        vertical-align: middle;\n",
       "    }\n",
       "\n",
       "    .dataframe tbody tr th {\n",
       "        vertical-align: top;\n",
       "    }\n",
       "\n",
       "    .dataframe thead th {\n",
       "        text-align: right;\n",
       "    }\n",
       "</style>\n",
       "<table border=\"1\" class=\"dataframe\">\n",
       "  <thead>\n",
       "    <tr style=\"text-align: right;\">\n",
       "      <th></th>\n",
       "      <th>Postcode</th>\n",
       "      <th>LGA Code</th>\n",
       "      <th>LGA</th>\n",
       "      <th>Ratio</th>\n",
       "    </tr>\n",
       "  </thead>\n",
       "  <tbody>\n",
       "    <tr>\n",
       "      <th>0</th>\n",
       "      <td>800</td>\n",
       "      <td>71000</td>\n",
       "      <td>Darwin</td>\n",
       "      <td>0.907119</td>\n",
       "    </tr>\n",
       "    <tr>\n",
       "      <th>1</th>\n",
       "      <td>800</td>\n",
       "      <td>79399</td>\n",
       "      <td>Unincorporated NT</td>\n",
       "      <td>0.091358</td>\n",
       "    </tr>\n",
       "    <tr>\n",
       "      <th>6</th>\n",
       "      <td>822</td>\n",
       "      <td>70540</td>\n",
       "      <td>Belyuen</td>\n",
       "      <td>0.000275</td>\n",
       "    </tr>\n",
       "    <tr>\n",
       "      <th>7</th>\n",
       "      <td>822</td>\n",
       "      <td>70700</td>\n",
       "      <td>Coomalie</td>\n",
       "      <td>0.011893</td>\n",
       "    </tr>\n",
       "    <tr>\n",
       "      <th>8</th>\n",
       "      <td>822</td>\n",
       "      <td>71300</td>\n",
       "      <td>East Arnhem</td>\n",
       "      <td>0.219720</td>\n",
       "    </tr>\n",
       "    <tr>\n",
       "      <th>...</th>\n",
       "      <td>...</td>\n",
       "      <td>...</td>\n",
       "      <td>...</td>\n",
       "      <td>...</td>\n",
       "    </tr>\n",
       "    <tr>\n",
       "      <th>4883</th>\n",
       "      <td>7325</td>\n",
       "      <td>65410</td>\n",
       "      <td>Waratah/Wynyard</td>\n",
       "      <td>0.943151</td>\n",
       "    </tr>\n",
       "    <tr>\n",
       "      <th>4889</th>\n",
       "      <td>7469</td>\n",
       "      <td>61210</td>\n",
       "      <td>Circular Head</td>\n",
       "      <td>0.341943</td>\n",
       "    </tr>\n",
       "    <tr>\n",
       "      <th>4890</th>\n",
       "      <td>7469</td>\n",
       "      <td>63210</td>\n",
       "      <td>Kentish</td>\n",
       "      <td>0.002913</td>\n",
       "    </tr>\n",
       "    <tr>\n",
       "      <th>4891</th>\n",
       "      <td>7469</td>\n",
       "      <td>65410</td>\n",
       "      <td>Waratah/Wynyard</td>\n",
       "      <td>0.269170</td>\n",
       "    </tr>\n",
       "    <tr>\n",
       "      <th>4892</th>\n",
       "      <td>7469</td>\n",
       "      <td>65610</td>\n",
       "      <td>West Coast</td>\n",
       "      <td>0.385375</td>\n",
       "    </tr>\n",
       "  </tbody>\n",
       "</table>\n",
       "<p>3685 rows × 4 columns</p>\n",
       "</div>"
      ],
      "text/plain": [
       "      Postcode  LGA Code                LGA     Ratio\n",
       "0          800     71000             Darwin  0.907119\n",
       "1          800     79399  Unincorporated NT  0.091358\n",
       "6          822     70540            Belyuen  0.000275\n",
       "7          822     70700           Coomalie  0.011893\n",
       "8          822     71300        East Arnhem  0.219720\n",
       "...        ...       ...                ...       ...\n",
       "4883      7325     65410    Waratah/Wynyard  0.943151\n",
       "4889      7469     61210      Circular Head  0.341943\n",
       "4890      7469     63210            Kentish  0.002913\n",
       "4891      7469     65410    Waratah/Wynyard  0.269170\n",
       "4892      7469     65610         West Coast  0.385375\n",
       "\n",
       "[3685 rows x 4 columns]"
      ]
     },
     "execution_count": 86,
     "metadata": {},
     "output_type": "execute_result"
    }
   ],
   "source": [
    "df[df['Postcode'].duplicated(keep=False)]"
   ]
  }
 ],
 "metadata": {
  "interpreter": {
   "hash": "52950de89288d90dbed7616eeca9e73a634146eeef54792e2cb5e69f5aba88ac"
  },
  "kernelspec": {
   "display_name": "Python 3.8.12 64-bit ('base': conda)",
   "language": "python",
   "name": "python3"
  },
  "language_info": {
   "codemirror_mode": {
    "name": "ipython",
    "version": 3
   },
   "file_extension": ".py",
   "mimetype": "text/x-python",
   "name": "python",
   "nbconvert_exporter": "python",
   "pygments_lexer": "ipython3",
   "version": "3.8.12"
  },
  "orig_nbformat": 4
 },
 "nbformat": 4,
 "nbformat_minor": 2
}
